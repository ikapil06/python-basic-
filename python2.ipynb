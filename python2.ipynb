{
 "cells": [
  {
   "cell_type": "markdown",
   "metadata": {},
   "source": [
    "A Python identifier is a name used to identify a variable, function, class, module or other object. An identifier starts with a letter A to Z or a to z or an underscore (_) followed by zero or more letters, underscores and digits (0 to 9).\n",
    "\n",
    "Python does not allow punctuation characters such as @, $, and % within identifiers.Python is a case sensitive programming language. Thus, Manpower and manpower are two different identifiers in Python.\n",
    "\n",
    "Valid identifiers:\n",
    "\n",
    "ab10c: contains only letters and numbers\n",
    "\n",
    "abc_DE: contains all the valid characters\n",
    "\n",
    "_: surprisingly but Yes, underscore is a valid identifier\n",
    "\n",
    "_abc: identifier can start with an underscore\n",
    "\n",
    "Invalid identifers:\n",
    "\n",
    "99: identifier can’t be only digits\n",
    "\n",
    "9abc: identifier can’t start with number\n",
    "\n",
    "x+y: the only special character allowed is an underscore\n",
    "\n",
    "for: it’s a reserved keyword"
   ]
  },
  {
   "cell_type": "markdown",
   "metadata": {},
   "source": [
    "Worried about to confirm whether an identifier is ok or not??\n",
    "\n",
    "There's a built in method to confirm that.\n",
    "\n",
    "Let's see"
   ]
  },
  {
   "cell_type": "code",
   "execution_count": 1,
   "metadata": {},
   "outputs": [
    {
     "name": "stdout",
     "output_type": "stream",
     "text": [
      "True\n",
      "False\n",
      "True\n",
      "True\n"
     ]
    }
   ],
   "source": [
    "# Run this cell and see the answer in boolean way(True, False) and don't worry if you don't understand this method right now.\n",
    "# Just keep in mind, there's a way to cross check the identifier.\n",
    "print(\"abc\".isidentifier())  # True\n",
    "print(\"99a\".isidentifier())  # False\n",
    "print(\"_\".isidentifier())  # True\n",
    "print(\"for\".isidentifier())  # True - wrong output"
   ]
  },
  {
   "cell_type": "markdown",
   "metadata": {},
   "source": [
    "Reserved words in Python\n",
    "\n",
    "Reserved words (also called keywords) are defined with predefined meaning and syntax in the language. These keywords have to be used to develop programming instructions. Reserved words can’t be used as identifiers for other programming elements like name of variable, function etc."
   ]
  },
  {
   "cell_type": "code",
   "execution_count": 2,
   "metadata": {},
   "outputs": [
    {
     "data": {
      "text/plain": [
       "['False',\n",
       " 'None',\n",
       " 'True',\n",
       " 'and',\n",
       " 'as',\n",
       " 'assert',\n",
       " 'async',\n",
       " 'await',\n",
       " 'break',\n",
       " 'class',\n",
       " 'continue',\n",
       " 'def',\n",
       " 'del',\n",
       " 'elif',\n",
       " 'else',\n",
       " 'except',\n",
       " 'finally',\n",
       " 'for',\n",
       " 'from',\n",
       " 'global',\n",
       " 'if',\n",
       " 'import',\n",
       " 'in',\n",
       " 'is',\n",
       " 'lambda',\n",
       " 'nonlocal',\n",
       " 'not',\n",
       " 'or',\n",
       " 'pass',\n",
       " 'raise',\n",
       " 'return',\n",
       " 'try',\n",
       " 'while',\n",
       " 'with',\n",
       " 'yield']"
      ]
     },
     "execution_count": 2,
     "metadata": {},
     "output_type": "execute_result"
    }
   ],
   "source": [
    "# Run this command and you will see reserved keywords in a list(list is a data structure you will see later)\n",
    "import keyword\n",
    "keyword.kwlist"
   ]
  },
  {
   "cell_type": "markdown",
   "metadata": {},
   "source": [
    "Comments in Python\n",
    "\n",
    "As programs get bigger and more complicated, they get more difficult to read. Formal languages are dense, and it is often difficult to look at a piece of code and figure out what it is doing, or why.\n",
    "\n",
    "For this reason, it is a good idea to add notes to your programs to explain in natural language what the program is doing. These notes are called comments, and they are marked with the # symbol:\n",
    "\n",
    "compute the percentage of the hour that has elapsed percentage = (minute * 100) / 60\n",
    "\n",
    "In this case, the comment appears on a line by itself. You can also put comments at the end of a line:"
   ]
  },
  {
   "cell_type": "code",
   "execution_count": 4,
   "metadata": {},
   "outputs": [],
   "source": [
    "minute =13\n",
    "percentage = (minute * 100) / 60     # caution: integer division"
   ]
  },
  {
   "cell_type": "code",
   "execution_count": 5,
   "metadata": {},
   "outputs": [
    {
     "data": {
      "text/plain": [
       "21.666666666666668"
      ]
     },
     "execution_count": 5,
     "metadata": {},
     "output_type": "execute_result"
    }
   ],
   "source": [
    "percentage"
   ]
  },
  {
   "cell_type": "markdown",
   "metadata": {},
   "source": [
    "Variables in Python\n",
    "\n",
    "Variables are containers for storing data values. Python has no command for declaring a variable.A variable is created the moment you first assign a value to it."
   ]
  },
  {
   "cell_type": "code",
   "execution_count": 6,
   "metadata": {},
   "outputs": [
    {
     "name": "stdout",
     "output_type": "stream",
     "text": [
      "5\n",
      "CloudyML\n"
     ]
    }
   ],
   "source": [
    "# example\n",
    "x=5\n",
    "s='CloudyML'\n",
    "print(x)\n",
    "print(s)"
   ]
  },
  {
   "cell_type": "markdown",
   "metadata": {},
   "source": [
    "Variables do not need to be declared with any particular type, and can even change type after they have been set. If you want to specify the data type of a variable, this can be done with casting"
   ]
  },
  {
   "cell_type": "code",
   "execution_count": 7,
   "metadata": {},
   "outputs": [
    {
     "name": "stdout",
     "output_type": "stream",
     "text": [
      "6\n",
      "6\n",
      "6.0\n"
     ]
    }
   ],
   "source": [
    "# example\n",
    "x=int(6)\n",
    "y=str(6)\n",
    "z=float(6)\n",
    "print(x)\n",
    "print(y)\n",
    "print(z)"
   ]
  },
  {
   "cell_type": "markdown",
   "metadata": {},
   "source": [
    "Values and types\n",
    "\n",
    "A value is one of the fundamental things like a letter or a number that a program manipulates.\n",
    "\n",
    "For example, 2 is an integer, and 'Hello, World!' is a string, because it contains a \"string\" of letters. You (and the interpreter) can identify strings because they are enclosed in quotation marks.\n",
    "\n",
    "If you are not sure what type a value has, the interpreter can tell you."
   ]
  },
  {
   "cell_type": "code",
   "execution_count": 8,
   "metadata": {},
   "outputs": [
    {
     "name": "stdout",
     "output_type": "stream",
     "text": [
      "<class 'str'>\n",
      "<class 'int'>\n"
     ]
    }
   ],
   "source": [
    "print(type('Hello, World!'))\n",
    "print(type(17))"
   ]
  },
  {
   "cell_type": "markdown",
   "metadata": {},
   "source": [
    "Not surprisingly, strings belong to the type str and integers belong to the type int. Less obviously, numbers with a decimal point belong to a type called float, because these numbers are represented in a format called floating-point."
   ]
  },
  {
   "cell_type": "code",
   "execution_count": 9,
   "metadata": {},
   "outputs": [
    {
     "name": "stdout",
     "output_type": "stream",
     "text": [
      "<class 'float'>\n"
     ]
    }
   ],
   "source": [
    "print(type(3.2))"
   ]
  },
  {
   "cell_type": "markdown",
   "metadata": {},
   "source": [
    "Arithmetic Operators"
   ]
  },
  {
   "cell_type": "code",
   "execution_count": 10,
   "metadata": {},
   "outputs": [
    {
     "name": "stdout",
     "output_type": "stream",
     "text": [
      "102\n",
      "98\n",
      "200\n",
      "0.02\n",
      "0\n",
      "10000\n"
     ]
    }
   ],
   "source": [
    "#create two variables\n",
    "a=100\n",
    "b=2\n",
    "\n",
    "# addition (+) operator\n",
    "print(a+b) \n",
    "\n",
    "# subtraction (-) operator\n",
    "print(a-b) \n",
    "\n",
    "# multiplication (*) operator\n",
    "print(a*b)\n",
    "\n",
    "# division (/) operator\n",
    "print(b/a)\n",
    "\n",
    "# modulus (%) operator\n",
    "print(a%b) # prints the remainder of a/b\n",
    "\n",
    "# exponent (**) operator\n",
    "print(a**b) #prints a^b"
   ]
  },
  {
   "cell_type": "markdown",
   "metadata": {},
   "source": [
    "Comparison Operators"
   ]
  },
  {
   "cell_type": "code",
   "execution_count": 11,
   "metadata": {},
   "outputs": [
    {
     "name": "stdout",
     "output_type": "stream",
     "text": [
      "False\n",
      "True\n",
      "False\n",
      "True\n",
      "False\n",
      "True\n"
     ]
    }
   ],
   "source": [
    "# create two variables\n",
    "a=100\n",
    "b=200\n",
    "\n",
    "# (==) operator, checks if two operands are equal or not\n",
    "print(a==b)\n",
    "\n",
    "# (!=) operator, checks if two operands are not equal\n",
    "print(a!=b)\n",
    "\n",
    "# (>) operator, checks left operand is greater than right operand or not\n",
    "print(a>b)\n",
    "\n",
    "# (<) operator, checks left operand is less than right operand or not\n",
    "print(a<b)\n",
    "#(>=) operator, checks left operand is greater than or equal to right operand or not\n",
    "print(a>=b)\n",
    "\n",
    "# (<=) operator, checks left operand is less than or equal to right operand or not\n",
    "print(a<=b)"
   ]
  },
  {
   "cell_type": "markdown",
   "metadata": {},
   "source": [
    "Conditional Statements"
   ]
  },
  {
   "cell_type": "code",
   "execution_count": 12,
   "metadata": {},
   "outputs": [
    {
     "name": "stdout",
     "output_type": "stream",
     "text": [
      "b is greater than a\n"
     ]
    }
   ],
   "source": [
    "# simple if statement\n",
    "a = 100\n",
    "b = 101\n",
    "if b > a:  # observe the ':' after if block\n",
    "  print(\"b is greater than a\")  # Observe the print statment line indentation(4 spaces gap from the line of if block)"
   ]
  },
  {
   "cell_type": "code",
   "execution_count": 13,
   "metadata": {},
   "outputs": [
    {
     "name": "stdout",
     "output_type": "stream",
     "text": [
      "a is greater than b\n"
     ]
    }
   ],
   "source": [
    "a = 100\n",
    "b = 50\n",
    "if b > a:\n",
    "  print(\"b is greater than a\")\n",
    "elif a == b:                    # elif keyword is pythons way of saying \"if the previous\n",
    "  print(\"a and b are equal\")    # conditions were not true, then try this condition\".\n",
    "                              \n",
    "else:        # else keyword catches anything which isn't caught by the preceding conditions\n",
    "  print(\"a is greater than b\")"
   ]
  },
  {
   "cell_type": "markdown",
   "metadata": {},
   "source": [
    "Logical Operators"
   ]
  },
  {
   "cell_type": "markdown",
   "metadata": {},
   "source": [
    "and' is Logical AND Operator\n",
    "\n",
    "'or' is Logical OR Operator\n",
    "\n",
    "'not' is Logical NOT Operator"
   ]
  },
  {
   "cell_type": "code",
   "execution_count": 14,
   "metadata": {},
   "outputs": [
    {
     "name": "stdout",
     "output_type": "stream",
     "text": [
      "either divided by 4 or 3\n"
     ]
    }
   ],
   "source": [
    "#take user input as int\n",
    "a=int(input())\n",
    "\n",
    "# logical AND operation\n",
    "\n",
    "if a%4==0 and a%3==0:\n",
    "    print(\"divided by both 4 and 3\")\n",
    "\n",
    "# logical OR operation\n",
    "if a%4==0 or a%3==0:\n",
    "    print(\"either divided by 4 or 3\")\n",
    "\n",
    "# logical NOT operation\n",
    "if not(a%4==0 or a%3==0):\n",
    "    print(\"neither divided by 4 nor 3\")"
   ]
  },
  {
   "cell_type": "markdown",
   "metadata": {},
   "source": [
    "Python Operators Precedence"
   ]
  },
  {
   "cell_type": "code",
   "execution_count": 15,
   "metadata": {},
   "outputs": [
    {
     "name": "stdout",
     "output_type": "stream",
     "text": [
      "1\n"
     ]
    }
   ],
   "source": [
    "print(2**9>>7//8-52+61)"
   ]
  },
  {
   "cell_type": "markdown",
   "metadata": {},
   "source": [
    "Identity Operators\n",
    "\n",
    "Identity operators are used to compare the objects, not if they are equal, but if they are actually the same object, with the same memory location:\n",
    "\n",
    "is Returns True if both variables are the same object\n",
    "\n",
    "is not Returns True if both variables are not the same object"
   ]
  },
  {
   "cell_type": "code",
   "execution_count": 16,
   "metadata": {},
   "outputs": [
    {
     "name": "stdout",
     "output_type": "stream",
     "text": [
      "Line 1 - a and b have same identity\n",
      "Line 4 - a and b do not have same identity\n"
     ]
    }
   ],
   "source": [
    "a = 20\n",
    "b = 20\n",
    "\n",
    "if ( a is b ):\n",
    "   print (\"Line 1 - a and b have same identity\")\n",
    "else:\n",
    "   print (\"Line 1 - a and b do not have same identity\")\n",
    "b=30\n",
    "if ( a is not b ):\n",
    "   print (\"Line 4 - a and b do not have same identity\")\n",
    "else:\n",
    "   print (\"Line 4 - a and b have same identity\")"
   ]
  },
  {
   "cell_type": "markdown",
   "metadata": {},
   "source": [
    "Membership Operators\n",
    "\n",
    "Membership operators are used to test if a sequence is presented in an object: in Returns True if a sequence with the specified value is present in the object not in Returns True if a sequence with the specified value is not present in the object"
   ]
  },
  {
   "cell_type": "code",
   "execution_count": 17,
   "metadata": {},
   "outputs": [
    {
     "name": "stdout",
     "output_type": "stream",
     "text": [
      "Line 1 - a is not available in the given list\n",
      "Line 2 - b is not available in the given list\n",
      "Line 3 - a is available in the given list\n"
     ]
    }
   ],
   "source": [
    "a = 10\n",
    "b = 20\n",
    "list = [1, 2, 3, 4, 5 ];\n",
    "\n",
    "if ( a in list ):\n",
    "   print (\"Line 1 - a is available in the given list\")\n",
    "else:\n",
    "   print (\"Line 1 - a is not available in the given list\")\n",
    "\n",
    "if ( b not in list ):\n",
    "   print (\"Line 2 - b is not available in the given list\")\n",
    "else:\n",
    "   print (\"Line 2 - b is available in the given list\")\n",
    "\n",
    "a = 2\n",
    "if ( a in list ):\n",
    "   print (\"Line 3 - a is available in the given list\")\n",
    "else:\n",
    "   print (\"Line 3 - a is not available in the given list\")"
   ]
  },
  {
   "cell_type": "markdown",
   "metadata": {},
   "source": [
    "Ternary Operator\n",
    "\n",
    "Ternary operators in Python are terse conditional expressions. These are operators that test a condition and based on that, evaluate a value."
   ]
  },
  {
   "cell_type": "code",
   "execution_count": 18,
   "metadata": {},
   "outputs": [
    {
     "name": "stdout",
     "output_type": "stream",
     "text": [
      "b\n"
     ]
    }
   ],
   "source": [
    "a,b=2,3\n",
    "print(\"a\" if a>b else \"b\")"
   ]
  },
  {
   "cell_type": "markdown",
   "metadata": {},
   "source": [
    "String in Python\n",
    "\n",
    "A string is a sequence of characters.\n",
    "\n",
    "A character is simply a symbol. For example, the English language has 26 characters.\n",
    "\n",
    "Computers do not deal with characters, they deal with numbers (binary). Even though you may see characters on your screen, internally it is stored and manipulated as a combination of 0s and 1s.\n",
    "\n",
    "This conversion of character to a number is called encoding, and the reverse process is decoding. ASCII and Unicode are some of the popular encodings used.\n",
    "\n",
    "In Python, a string is a sequence of Unicode characters. Unicode was introduced to include every character in all languages and bring uniformity in encoding. You can learn about Unicode from Python Unicode."
   ]
  },
  {
   "cell_type": "code",
   "execution_count": 19,
   "metadata": {},
   "outputs": [
    {
     "name": "stdout",
     "output_type": "stream",
     "text": [
      "Hello\n",
      "Hello\n",
      "Hello\n",
      "Hello, welcome to\n",
      "           the world of Python\n"
     ]
    }
   ],
   "source": [
    "# defining strings in Python\n",
    "# all of the following are equivalent\n",
    "my_string = 'Hello'\n",
    "print(my_string)\n",
    "\n",
    "my_string = \"Hello\"\n",
    "print(my_string)\n",
    "\n",
    "my_string = '''Hello'''\n",
    "print(my_string)\n",
    "\n",
    "# triple quotes string can extend multiple lines\n",
    "my_string = \"\"\"Hello, welcome to\n",
    "           the world of Python\"\"\"\n",
    "print(my_string)"
   ]
  },
  {
   "cell_type": "markdown",
   "metadata": {},
   "source": [
    "access characters in a string\n",
    "\n",
    "We can access individual characters using indexing and a range of characters using slicing. Index starts from 0. Trying to access a character out of index range will raise an IndexError. The index must be an integer. We can't use floats or other types, this will result into TypeError.\n",
    "\n",
    "Python allows negative indexing for its sequences.\n",
    "\n",
    "The index of -1 refers to the last item, -2 to the second last item and so on. We can access a range of items in a string by using the slicing operator :(colon)."
   ]
  },
  {
   "cell_type": "code",
   "execution_count": 21,
   "metadata": {},
   "outputs": [
    {
     "name": "stdout",
     "output_type": "stream",
     "text": [
      "str =  Cloudycomputing\n",
      "str[0] =  C\n",
      "str[-1] =  g\n",
      "str[1:5] =  loud\n",
      "str[5:-2] =  ycomputi\n"
     ]
    }
   ],
   "source": [
    "#Accessing string characters in Python\n",
    "str = 'Cloudycomputing'\n",
    "print('str = ', str)\n",
    "\n",
    "#first character\n",
    "print('str[0] = ', str[0])\n",
    "\n",
    "#last character\n",
    "print('str[-1] = ', str[-1])\n",
    "\n",
    "#slicing 2nd to 5th character\n",
    "print('str[1:5] = ', str[1:5])\n",
    "\n",
    "#slicing 6th to 2nd last character\n",
    "print('str[5:-2] = ', str[5:-2])"
   ]
  },
  {
   "cell_type": "markdown",
   "metadata": {},
   "source": [
    "Python String Methods\n",
    "\n",
    "capitalize() Converts the first character to upper case\n",
    "\n",
    "casefold() Converts string into lower case\n",
    "\n",
    "center() Returns a centered string\n",
    "\n",
    "count() Returns the number of times a specified value occurs in a string\n",
    "\n",
    "encode() Returns an encoded version of the string\n",
    "\n",
    "endswith() Returns true if the string ends with the specified value\n",
    "\n",
    "expandtabs() Sets the tab size of the string\n",
    "\n",
    "find() Searches the string for a specified value and returns the position of where it was found\n",
    "\n",
    "format() Formats specified values in a string\n",
    "\n",
    "format_map() Formats specified values in a string\n",
    "\n",
    "index() Searches the string for a specified value and returns the position of where it was found\n",
    "\n",
    "isalnum() Returns True if all characters in the string are alphanumeric\n",
    "\n",
    "isalpha() Returns True if all characters in the string are in the alphabet\n",
    "\n",
    "isascii() Returns True if all characters in the string are ascii characters\n",
    "\n",
    "isdecimal() Returns True if all characters in the string are decimals\n",
    "\n",
    "isdigit() Returns True if all characters in the string are digits\n",
    "\n",
    "isidentifier() Returns True if the string is an identifier\n",
    "\n",
    "islower() Returns True if all characters in the string are lower case\n",
    "\n",
    "isnumeric() Returns True if all characters in the string are numeric\n",
    "\n",
    "isprintable() Returns True if all characters in the string are printable\n",
    "\n",
    "isspace() Returns True if all characters in the string are whitespaces\n",
    "\n",
    "istitle() Returns True if the string follows the rules of a title\n",
    "\n",
    "isupper() Returns True if all characters in the string are upper case\n",
    "\n",
    "join() Converts the elements of an iterable into a string\n",
    "\n",
    "ljust() Returns a left justified version of the string\n",
    "\n",
    "lower() Converts a string into lower case\n",
    "\n",
    "lstrip() Returns a left trim version of the string\n",
    "\n",
    "maketrans() Returns a translation table to be used in translations\n",
    "\n",
    "partition() Returns a tuple where the string is parted into three parts\n",
    "\n",
    "replace() Returns a string where a specified value is replaced with a specified value\n",
    "\n",
    "rfind() Searches the string for a specified value and returns the last position of where it was found\n",
    "\n",
    "rindex() Searches the string for a specified value and returns the last position of where it was found\n",
    "\n",
    "rjust() Returns a right justified version of the string\n",
    "\n",
    "rpartition() Returns a tuple where the string is parted into three parts\n",
    "\n",
    "rsplit() Splits the string at the specified separator, and returns a list\n",
    "\n",
    "rstrip() Returns a right trim version of the string\n",
    "\n",
    "split() Splits the string at the specified separator, and returns a list\n",
    "\n",
    "splitlines() Splits the string at line breaks and returns a list\n",
    "\n",
    "startswith() Returns true if the string starts with the specified value\n",
    "\n",
    "strip() Returns a trimmed version of the string\n",
    "\n",
    "swapcase() Swaps cases, lower case becomes upper case and vice versa\n",
    "\n",
    "title() Converts the first character of each word to upper case\n",
    "\n",
    "translate() Returns a translated string\n",
    "\n",
    "upper() Converts a string into upper case\n",
    "\n",
    "zfill() Fills the string with a specified number of 0 values at the beginning"
   ]
  },
  {
   "cell_type": "code",
   "execution_count": 22,
   "metadata": {},
   "outputs": [
    {
     "name": "stdout",
     "output_type": "stream",
     "text": [
      "Hi there\n",
      "hi there\n",
      "------------\n",
      "hello buddy\n",
      "------------\n",
      "HELLO BUDDY\n",
      "------------\n",
      "Hello Buddy\n",
      "------------\n",
      "HEllO bUdDy\n",
      "------------\n",
      "True\n",
      "True\n",
      "True\n",
      "------------\n",
      "True\n",
      "False\n",
      "------------\n",
      "False\n",
      "True\n",
      "------------\n",
      "0\n",
      "4\n"
     ]
    }
   ],
   "source": [
    "mystring = 'Hi there'  \n",
    "print(mystring.capitalize())      #converting the first character of the string into uppercase\n",
    "print(mystring.casefold())        #converts the string into lowercase\n",
    "\n",
    "print(\"------------\")\n",
    "\n",
    "s = \"heLLo BuDdY\"\n",
    "s2 = s.lower()          #converts the string into lowercase\n",
    "print(s2)\n",
    "\n",
    "print(\"------------\")\n",
    "\n",
    "s = \"heLLo BuDdY\"\n",
    "s2 = s.upper()            #converts the string into uppercase\n",
    "print(s2)\n",
    "\n",
    "print(\"------------\")\n",
    "\n",
    "s = \"heLLo BuDdY\"\n",
    "s2 = s.title()          #converts first letter of each word of the string to uppercase\n",
    "print(s2)\n",
    "\n",
    "print(\"------------\")\n",
    "\n",
    "s = \"heLLo BuDdY\"\n",
    "s2 = s.swapcase()    #swap uppercase to lowercase and vice versa\n",
    "print(s2)\n",
    "\n",
    "print(\"------------\")\n",
    "\n",
    "s = \"Tech50\"\n",
    "print(s.isalnum())     #return True if all the characters of the string are alphanumeric\n",
    "s = \"Tech\"\n",
    "print(s.isalnum())\n",
    "s = \"678\"\n",
    "print(s.isalnum())\n",
    "\n",
    "print(\"------------\")\n",
    "\n",
    "s1 = \"Techvidvan\"\n",
    "s2 = \"Tech50\"\n",
    "print(s1.isalpha())           #returns True if all characters in the string are alphabet\n",
    "print(s2.isalpha())\n",
    "\n",
    "print(\"------------\")\n",
    "\n",
    "s1 = \"Tech50\"\n",
    "s2 = \"56748\"\n",
    "print(s1.isdigit())\n",
    "print(s2.isdigit())         #returns True if all characters in the string are digits\n",
    "\n",
    "print(\"------------\")\n",
    "\n",
    "mystring = \"Python\"\n",
    "print(mystring.find(\"P\"))\n",
    "print(mystring.find(\"on\"))      #sQearches the string for THE specified value and returns the position of where it is found"
   ]
  },
  {
   "cell_type": "markdown",
   "metadata": {},
   "source": [
    "Escape Characters in Python\n",
    "\n",
    "To insert characters that are illegal in a string, use an escape character.\n",
    "\n",
    "An escape character is a backslash \\ followed by the character you want to insert.\n",
    "\n",
    "An example of an illegal character is a double quote inside a string that is surrounded by double quotes:"
   ]
  },
  {
   "cell_type": "code",
   "execution_count": 23,
   "metadata": {},
   "outputs": [
    {
     "name": "stdout",
     "output_type": "stream",
     "text": [
      "We are the so-called \"Vikings\" from the north.\n"
     ]
    }
   ],
   "source": [
    "txt = \"We are the so-called \\\"Vikings\\\" from the north.\"\n",
    "print(txt)"
   ]
  },
  {
   "cell_type": "markdown",
   "metadata": {},
   "source": [
    "Other escape characters used in Python:\n",
    "\n",
    "' -Single Quote\n",
    "\n",
    "\\ - Backslash\n",
    "\n",
    "\\n - New Line\n",
    "\n",
    "\\r - Carriage Return\n",
    "\n",
    "\\t - Tab\n",
    "\n",
    "\\b - Backspace\n",
    "\n",
    "\\f - Form Feed\n",
    "\n",
    "\\ooo - Octal value\n",
    "\n",
    "\\xhh - Hex value"
   ]
  },
  {
   "cell_type": "code",
   "execution_count": 24,
   "metadata": {},
   "outputs": [
    {
     "name": "stdout",
     "output_type": "stream",
     "text": [
      "hello'world\n",
      "------------\n",
      "hello\"world\n",
      "------------\n",
      "hello\\world\n",
      "------------\n",
      "hello\n",
      "world\n",
      "------------\n",
      "world\n",
      "------------\n",
      "hello\tworld\n",
      "------------\n",
      "hellworld\n",
      "------------\n",
      "hello\fworld\n",
      "------------\n",
      "ABC\n",
      "------------\n",
      "ABC\n"
     ]
    }
   ],
   "source": [
    "# single quote escape character  \n",
    "x = 'hello\\'world'\n",
    "print(x)\n",
    "\n",
    "print(\"------------\")\n",
    "\n",
    "# double quote escape character   \n",
    "x = \"hello\\\"world\"\n",
    "print(x)\n",
    "\n",
    "print(\"------------\")\n",
    "\n",
    "# backslash escape character\n",
    "x = 'hello\\\\world'\n",
    "print(x)\n",
    "\n",
    "print(\"------------\")\n",
    "\n",
    "# newline escape character\n",
    "x = 'hello\\nworld'\n",
    "print(x)\n",
    "\n",
    "print(\"------------\")\n",
    "\n",
    "# carriage return escape character\n",
    "x = 'hello\\rworld'\n",
    "print(x)\n",
    "\n",
    "print(\"------------\")\n",
    "\n",
    "# tab escape character\n",
    "x = 'hello\\tworld'\n",
    "print(x)\n",
    "\n",
    "print(\"------------\")\n",
    "\n",
    "# backspace escape character\n",
    "x = 'hello\\bworld'\n",
    "print(x)\n",
    "\n",
    "print(\"------------\")\n",
    "\n",
    "# form feed escape character\n",
    "x = 'hello\\fworld'\n",
    "print(x)\n",
    "\n",
    "print(\"------------\")\n",
    "\n",
    "# octal value escape character\n",
    "x = '\\101\\102\\103'\n",
    "print(x)\n",
    "\n",
    "print(\"------------\")\n",
    "\n",
    "# hex value escape character\n",
    "x = '\\x41\\x42\\x43'\n",
    "print(x)"
   ]
  },
  {
   "cell_type": "markdown",
   "metadata": {},
   "source": [
    "String characters & slicing\n",
    "\n",
    "You can return a range of characters by using the slice syntax.\n",
    "\n",
    "Specify the start index and the end index, separated by a colon, to return a part of the string\n",
    "\n",
    "Syntax: string[start:stop] - items start through stop-1\n",
    "\n",
    "string[start:] - items start through the rest of the array\n",
    "\n",
    "string[:stop] - items from the beginning through stop-1\n",
    "\n",
    "string[:] - a copy of the whole array\n",
    "\n",
    "string[start:stop:step] - start through not past stop, by step"
   ]
  },
  {
   "cell_type": "code",
   "execution_count": 25,
   "metadata": {},
   "outputs": [
    {
     "name": "stdout",
     "output_type": "stream",
     "text": [
      "ello, W\n",
      "-----------\n",
      "Hello, \n",
      ", World!\n",
      "------------\n",
      "Hello, World!\n",
      "------------\n",
      "\n",
      "!Wl\n",
      "------------\n",
      "Hl \n",
      "Hl r!\n",
      "Hl \n",
      "!dlroW ,olleH\n"
     ]
    }
   ],
   "source": [
    "b = \"Hello, World!\"\n",
    "print(b[1:8])\n",
    "\n",
    "print(\"-----------\")\n",
    "\n",
    "# omit first or last index\n",
    "print(b[:7])\n",
    "print(b[5:])\n",
    "\n",
    "print(\"------------\")\n",
    "\n",
    "# omit both index\n",
    "print(b[:])\n",
    "\n",
    "print(\"------------\")\n",
    "\n",
    "# using negative index\n",
    "print(b[-5:-9])\n",
    "print(b[::-5])\n",
    "\n",
    "print(\"------------\")\n",
    "\n",
    "# slicing with step\n",
    "\n",
    "print(b[0:8:3])\n",
    "print(b[0::3])\n",
    "print(b[:8:3])\n",
    "print(b[::-1])"
   ]
  },
  {
   "cell_type": "markdown",
   "metadata": {},
   "source": [
    "Booleans in Python\n",
    "\n",
    "The Python Boolean type is one of Python’s built-in data types. It’s used to represent the truth value of an expression. For example, the expression 1 <= 2 is True, while the expression 0 == 1 is False. Understanding how Python Boolean values behave is important to programming well in Python.\n",
    "\n",
    "The Python Boolean type has only two possible values:\n",
    "\n",
    "True\n",
    "False"
   ]
  },
  {
   "cell_type": "code",
   "execution_count": 26,
   "metadata": {},
   "outputs": [
    {
     "name": "stdout",
     "output_type": "stream",
     "text": [
      "<class 'bool'>\n",
      "<class 'bool'>\n"
     ]
    }
   ],
   "source": [
    "print(type(False))\n",
    "print(type(True))"
   ]
  },
  {
   "cell_type": "markdown",
   "metadata": {},
   "source": []
  }
 ],
 "metadata": {
  "kernelspec": {
   "display_name": "Python 3",
   "language": "python",
   "name": "python3"
  },
  "language_info": {
   "codemirror_mode": {
    "name": "ipython",
    "version": 3
   },
   "file_extension": ".py",
   "mimetype": "text/x-python",
   "name": "python",
   "nbconvert_exporter": "python",
   "pygments_lexer": "ipython3",
   "version": "3.10.11"
  },
  "orig_nbformat": 4
 },
 "nbformat": 4,
 "nbformat_minor": 2
}
